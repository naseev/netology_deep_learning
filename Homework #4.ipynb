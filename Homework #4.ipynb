{
 "cells": [
  {
   "cell_type": "markdown",
   "metadata": {},
   "source": [
    "# Домашнее задание № 4\n",
    "\n",
    "## Основное задание\n",
    "\n",
    "Возьмите датасет https://www.kaggle.com/ajayrana/hymenoptera-data/kernels\n",
    "1. Обучите на нем модели ResNet 18 и VGG 16 с нуля (5-10 эпох)\n",
    "2. Обучите на нем модели ResNet 18 и VGG 16 с использованием FineTuning (5-10 эпох)\n",
    "3. Добавьте аугментацию данных к пункту 2\n",
    "\n",
    "Сравните качество всех 3 полученных подходов\n",
    "\n",
    "## Задание со звездочкой\n",
    "Примените FineTuning ResNet 18 к FashionMnist. Удалось ли увидеть резкое увеличение качества?\n",
    "\n"
   ]
  },
  {
   "cell_type": "markdown",
   "metadata": {},
   "source": [
    "### Для начала загрузим dataset:"
   ]
  },
  {
   "cell_type": "markdown",
   "metadata": {},
   "source": [
    "source: https://www.kaggle.com/ryches/pytorch-intro "
   ]
  },
  {
   "cell_type": "code",
   "execution_count": 1,
   "metadata": {},
   "outputs": [],
   "source": [
    "import torch\n",
    "import torch.nn as nn\n",
    "import torch.optim as optim\n",
    "from torch.optim import lr_scheduler\n",
    "import numpy as np\n",
    "import torchvision as tv\n",
    "from torchvision import datasets, models, transforms\n",
    "import matplotlib.pyplot as plt\n",
    "import time\n",
    "import os\n",
    "import copy\n",
    "\n",
    "plt.ion()   # interactive mode"
   ]
  },
  {
   "cell_type": "code",
   "execution_count": 102,
   "metadata": {},
   "outputs": [],
   "source": [
    "data_dir = r\"C:\\Users\\Nikita\\Documents\\Нетология_DataScience\\Deep_Learning\\Modern CNN\\hymenoptera_data\\hymenoptera_data\""
   ]
  },
  {
   "cell_type": "code",
   "execution_count": 26,
   "metadata": {},
   "outputs": [],
   "source": [
    "BATCH_SIZE=32\n",
    "\n",
    "normalize = tv.transforms.Normalize(mean=[0.485, 0.456, 0.406], std=[0.229, 0.224, 0.225])\n",
    "\n",
    "transoforms = tv.transforms.Compose([\n",
    "    tv.transforms.Resize((224,224)),\n",
    "    tv.transforms.ToTensor(),\n",
    "    normalize\n",
    "])\n",
    "\n",
    "train_dataset = tv.datasets.ImageFolder(os.path.join(data_dir, 'train'), transform=transoforms)\n",
    "test_dataset = tv.datasets.ImageFolder(os.path.join(data_dir, 'val'), transform=transoforms)\n",
    "\n",
    "train_iter = torch.utils.data.DataLoader(train_dataset, batch_size=BATCH_SIZE, shuffle=True)\n",
    "test_iter = torch.utils.data.DataLoader(test_dataset, batch_size=BATCH_SIZE,  shuffle=True)\n",
    "\n",
    "class_names = train_dataset.classes\n",
    "device = torch.device(\"cuda:0\" if torch.cuda.is_available() else \"cpu\")"
   ]
  },
  {
   "cell_type": "markdown",
   "metadata": {},
   "source": [
    "# 1. ResNet 18 & VGG 16 с нуля:"
   ]
  },
  {
   "cell_type": "markdown",
   "metadata": {},
   "source": [
    "### Модель ResNet 18:"
   ]
  },
  {
   "cell_type": "code",
   "execution_count": 8,
   "metadata": {},
   "outputs": [],
   "source": [
    "def evaluate_accuracy(data_iter, net):\n",
    "    acc_sum, n = torch.Tensor([0]), 0\n",
    "    net.eval()\n",
    "    for X, y in data_iter:\n",
    "        acc_sum += (net(X).argmax(axis=1) == y).sum()\n",
    "        n += y.shape[0]\n",
    "    return acc_sum.item() / n"
   ]
  },
  {
   "cell_type": "code",
   "execution_count": 100,
   "metadata": {},
   "outputs": [],
   "source": [
    "def train(net, train_iter, test_iter, trainer, num_epochs):\n",
    "    loss = nn.CrossEntropyLoss(reduction='sum')\n",
    "    net.train()\n",
    "    for epoch in range(num_epochs):\n",
    "        train_l_sum, train_acc_sum, n, start = 0.0, 0.0, 0, time.time()\n",
    "        for X, y in train_iter:\n",
    "            trainer.zero_grad()\n",
    "            y_hat = net(X)\n",
    "            l = loss(y_hat, y)\n",
    "            l.backward()\n",
    "            trainer.step()\n",
    "            train_l_sum += l.item()\n",
    "            train_acc_sum += (y_hat.argmax(axis=1) == y).sum().item()\n",
    "            n += y.shape[0]\n",
    "            print(\"Step. time since epoch: {:.3f}. Train acc: {:.3f}. Train Loss: {:.3f}\".format(time.time() -  start,\n",
    "                (y_hat.argmax(axis=1) == y).sum().item() / y.shape[0], l.item()))\n",
    "        test_acc = evaluate_accuracy(test_iter, net)\n",
    "        print('epoch %d, loss %.4f, train acc %.3f, test acc %.3f, '\n",
    "              'time %.1f sec'\n",
    "              % (epoch + 1, train_l_sum / n, train_acc_sum / n, test_acc,\n",
    "                 time.time() - start))"
   ]
  },
  {
   "cell_type": "code",
   "execution_count": 110,
   "metadata": {},
   "outputs": [],
   "source": [
    "class BasicBlock(nn.Module):\n",
    "    expansion = 1\n",
    "\n",
    "\n",
    "    def __init__(self, in_planes, planes, stride=1):\n",
    "        super(BasicBlock, self).__init__()\n",
    "        self.conv1 = nn.Conv2d(in_planes, planes, kernel_size=3, stride=stride, padding=1, bias=False)\n",
    "        self.bn1 = nn.BatchNorm2d(planes)\n",
    "        self.conv2 = nn.Conv2d(planes, planes, kernel_size=3, stride=1, padding=1, bias=False)\n",
    "        self.bn2 = nn.BatchNorm2d(planes)\n",
    "\n",
    "\n",
    "        self.shortcut = nn.Sequential()\n",
    "        if stride != 1 or in_planes != self.expansion*planes:\n",
    "            self.shortcut = nn.Sequential(\n",
    "               nn.Conv2d(in_planes, self.expansion*planes, kernel_size=1, stride=stride, bias=False),\n",
    "               nn.BatchNorm2d(self.expansion*planes))"
   ]
  },
  {
   "cell_type": "code",
   "execution_count": 111,
   "metadata": {},
   "outputs": [],
   "source": [
    "class Bottleneck(nn.Module):\n",
    "    expansion = 4\n",
    "\n",
    "    def __init__(self, in_planes, planes, stride=1):\n",
    "        super(Bottleneck, self).__init__()\n",
    "        self.conv1 = nn.Conv2d(in_planes, planes, kernel_size=1, bias=False)\n",
    "        self.bn1 = nn.BatchNorm2d(planes)\n",
    "        self.conv2 = nn.Conv2d(planes, planes, kernel_size=3,\n",
    "                               stride=stride, padding=1, bias=False)\n",
    "        self.bn2 = nn.BatchNorm2d(planes)\n",
    "        self.conv3 = nn.Conv2d(planes, self.expansion *\n",
    "                               planes, kernel_size=1, bias=False)\n",
    "        self.bn3 = nn.BatchNorm2d(self.expansion*planes)\n",
    "\n",
    "        self.shortcut = nn.Sequential()\n",
    "        if stride != 1 or in_planes != self.expansion*planes:\n",
    "            self.shortcut = nn.Sequential(\n",
    "                nn.Conv2d(in_planes, self.expansion*planes,\n",
    "                          kernel_size=1, stride=stride, bias=False),\n",
    "                nn.BatchNorm2d(self.expansion*planes)\n",
    "            )\n",
    "\n",
    "    def forward(self, x):\n",
    "        out = F.relu(self.bn1(self.conv1(x)))\n",
    "        out = F.relu(self.bn2(self.conv2(out)))\n",
    "        out = self.bn3(self.conv3(out))\n",
    "        out += self.shortcut(x)\n",
    "        out = F.relu(out)\n",
    "        return out"
   ]
  },
  {
   "cell_type": "code",
   "execution_count": 112,
   "metadata": {},
   "outputs": [],
   "source": [
    "class ResNet(nn.Module):\n",
    "    def __init__(self, block, num_blocks, num_classes=10):\n",
    "        super(ResNet, self).__init__()\n",
    "        self.in_planes = 64\n",
    "\n",
    "\n",
    "        self.conv1 = nn.Conv2d(3, 64, kernel_size=3, stride=1, padding=1, bias=False)\n",
    "        self.bn1 = nn.BatchNorm2d(64)\n",
    "        self.layer1 = self._make_layer(block, 64, num_blocks[0], stride=1)\n",
    "        self.layer2 = self._make_layer(block, 128, num_blocks[1], stride=2)\n",
    "        self.layer3 = self._make_layer(block, 256, num_blocks[2], stride=2)\n",
    "        self.layer4 = self._make_layer(block, 512, num_blocks[3], stride=2)\n",
    "        self.linear = nn.Linear(512*block.expansion, num_classes)\n",
    "\n",
    "\n",
    "    def _make_layer(self, block, planes, num_blocks, stride):\n",
    "        strides = [stride] + [1]*(num_blocks-1)\n",
    "        layers = []\n",
    "        for stride in strides:\n",
    "            layers.append(block(self.in_planes, planes, stride))\n",
    "            self.in_planes = planes * block.expansion\n",
    "        return nn.Sequential(*layers)"
   ]
  },
  {
   "cell_type": "code",
   "execution_count": 113,
   "metadata": {},
   "outputs": [],
   "source": [
    "def ResNet18():\n",
    "    return ResNet(BasicBlock, [2, 2, 2, 2])"
   ]
  },
  {
   "cell_type": "code",
   "execution_count": 114,
   "metadata": {},
   "outputs": [],
   "source": [
    "net = ResNet18()"
   ]
  },
  {
   "cell_type": "code",
   "execution_count": 115,
   "metadata": {},
   "outputs": [],
   "source": [
    "net = net.to(device)"
   ]
  },
  {
   "cell_type": "code",
   "execution_count": 116,
   "metadata": {},
   "outputs": [],
   "source": [
    "trainer = torch.optim.SGD(params_to_update, lr=0.001, momentum=0.9)"
   ]
  },
  {
   "cell_type": "code",
   "execution_count": 117,
   "metadata": {},
   "outputs": [
    {
     "name": "stdout",
     "output_type": "stream",
     "text": [
      "Step. time since epoch: 6.145. Train acc: 1.000. Train Loss: 1.771\n",
      "Step. time since epoch: 12.324. Train acc: 1.000. Train Loss: 1.718\n",
      "Step. time since epoch: 18.726. Train acc: 1.000. Train Loss: 1.735\n",
      "Step. time since epoch: 25.138. Train acc: 1.000. Train Loss: 1.882\n",
      "Step. time since epoch: 31.347. Train acc: 1.000. Train Loss: 2.629\n",
      "Step. time since epoch: 37.517. Train acc: 1.000. Train Loss: 2.000\n",
      "Step. time since epoch: 43.483. Train acc: 1.000. Train Loss: 1.062\n",
      "Step. time since epoch: 47.375. Train acc: 1.000. Train Loss: 2.129\n",
      "epoch 1, loss 0.0612, train acc 1.000, test acc 0.908, time 74.6 sec\n",
      "Step. time since epoch: 5.964. Train acc: 1.000. Train Loss: 0.748\n",
      "Step. time since epoch: 12.010. Train acc: 1.000. Train Loss: 0.757\n",
      "Step. time since epoch: 17.875. Train acc: 1.000. Train Loss: 0.936\n",
      "Step. time since epoch: 24.008. Train acc: 1.000. Train Loss: 0.743\n",
      "Step. time since epoch: 29.999. Train acc: 1.000. Train Loss: 1.069\n",
      "Step. time since epoch: 35.853. Train acc: 1.000. Train Loss: 0.796\n",
      "Step. time since epoch: 41.883. Train acc: 1.000. Train Loss: 0.514\n",
      "Step. time since epoch: 45.754. Train acc: 1.000. Train Loss: 0.737\n",
      "epoch 2, loss 0.0258, train acc 1.000, test acc 0.908, time 72.9 sec\n",
      "Step. time since epoch: 5.972. Train acc: 1.000. Train Loss: 0.787\n",
      "Step. time since epoch: 11.853. Train acc: 1.000. Train Loss: 0.945\n",
      "Step. time since epoch: 17.764. Train acc: 1.000. Train Loss: 0.630\n",
      "Step. time since epoch: 23.645. Train acc: 1.000. Train Loss: 0.740\n",
      "Step. time since epoch: 29.549. Train acc: 1.000. Train Loss: 1.195\n",
      "Step. time since epoch: 35.630. Train acc: 1.000. Train Loss: 0.509\n",
      "Step. time since epoch: 41.486. Train acc: 1.000. Train Loss: 0.837\n",
      "Step. time since epoch: 45.318. Train acc: 1.000. Train Loss: 0.655\n",
      "epoch 3, loss 0.0258, train acc 1.000, test acc 0.908, time 72.8 sec\n",
      "Step. time since epoch: 5.866. Train acc: 1.000. Train Loss: 0.623\n",
      "Step. time since epoch: 11.892. Train acc: 1.000. Train Loss: 0.645\n",
      "Step. time since epoch: 17.805. Train acc: 1.000. Train Loss: 0.925\n",
      "Step. time since epoch: 23.744. Train acc: 1.000. Train Loss: 0.564\n",
      "Step. time since epoch: 29.755. Train acc: 1.000. Train Loss: 1.760\n",
      "Step. time since epoch: 35.812. Train acc: 1.000. Train Loss: 0.672\n",
      "Step. time since epoch: 41.913. Train acc: 1.000. Train Loss: 0.807\n",
      "Step. time since epoch: 45.862. Train acc: 1.000. Train Loss: 0.301\n",
      "epoch 4, loss 0.0258, train acc 1.000, test acc 0.908, time 73.1 sec\n",
      "Step. time since epoch: 5.937. Train acc: 1.000. Train Loss: 0.933\n",
      "Step. time since epoch: 11.855. Train acc: 1.000. Train Loss: 0.636\n",
      "Step. time since epoch: 17.855. Train acc: 1.000. Train Loss: 0.723\n",
      "Step. time since epoch: 23.709. Train acc: 1.000. Train Loss: 0.797\n",
      "Step. time since epoch: 29.715. Train acc: 1.000. Train Loss: 0.649\n",
      "Step. time since epoch: 35.760. Train acc: 1.000. Train Loss: 1.138\n",
      "Step. time since epoch: 41.641. Train acc: 1.000. Train Loss: 0.792\n",
      "Step. time since epoch: 45.440. Train acc: 1.000. Train Loss: 0.630\n",
      "epoch 5, loss 0.0258, train acc 1.000, test acc 0.908, time 72.9 sec\n"
     ]
    }
   ],
   "source": [
    "train(model, train_iter, test_iter, trainer, 5)"
   ]
  },
  {
   "cell_type": "markdown",
   "metadata": {},
   "source": [
    "### Модель VGG 16:"
   ]
  },
  {
   "cell_type": "code",
   "execution_count": 31,
   "metadata": {},
   "outputs": [],
   "source": [
    "def vgg_block(num_convs, input_channels, num_channels):\n",
    "    blk = nn.Sequential(nn.Conv2d(input_channels, num_channels, kernel_size=3, padding=1), nn.ReLU())\n",
    "    for i in range(num_convs - 1):\n",
    "        blk.add_module(\"conv{}\".format(i), nn.Conv2d(num_channels, num_channels, kernel_size=3, padding=1))\n",
    "        blk.add_module(\"relu{}\".format(i), nn.ReLU())\n",
    "    blk.add_module(\"pool\", nn.MaxPool2d(2, stride=2))\n",
    "    return blk"
   ]
  },
  {
   "cell_type": "code",
   "execution_count": 32,
   "metadata": {},
   "outputs": [],
   "source": [
    "conv_arch = ((2, 3, 64), (2, 64, 128), (3, 128, 256), (3, 256, 512), (3, 512, 512))"
   ]
  },
  {
   "cell_type": "code",
   "execution_count": 33,
   "metadata": {},
   "outputs": [],
   "source": [
    "def vgg(conv_arch):\n",
    "    net = nn.Sequential()\n",
    "\n",
    "    for i, (num_convs, input_ch, num_channels) in enumerate(conv_arch):\n",
    "        net.add_module(\"block{}\".format(i), vgg_block(num_convs, input_ch, num_channels))\n",
    "\n",
    "    \n",
    "    classifier = nn.Sequential(\n",
    "        nn.Flatten(),\n",
    "        nn.Linear(25088, 4096), nn.ReLU(), nn.Dropout(0.5),\n",
    "        nn.Linear(4096, 4096), nn.ReLU(), nn.Dropout(0.5),\n",
    "        nn.Linear(4096, 2))\n",
    "\n",
    "    net.add_module('classifier', classifier)\n",
    "    return net\n",
    "\n",
    "net = vgg(conv_arch)"
   ]
  },
  {
   "cell_type": "code",
   "execution_count": 34,
   "metadata": {},
   "outputs": [
    {
     "name": "stdout",
     "output_type": "stream",
     "text": [
      "Sequential(\n",
      "  (0): Conv2d(3, 64, kernel_size=(3, 3), stride=(1, 1), padding=(1, 1))\n",
      "  (1): ReLU()\n",
      "  (conv0): Conv2d(64, 64, kernel_size=(3, 3), stride=(1, 1), padding=(1, 1))\n",
      "  (relu0): ReLU()\n",
      "  (pool): MaxPool2d(kernel_size=2, stride=2, padding=0, dilation=1, ceil_mode=False)\n",
      ") \t\t torch.Size([1, 64, 112, 112])\n",
      "Sequential(\n",
      "  (0): Conv2d(64, 128, kernel_size=(3, 3), stride=(1, 1), padding=(1, 1))\n",
      "  (1): ReLU()\n",
      "  (conv0): Conv2d(128, 128, kernel_size=(3, 3), stride=(1, 1), padding=(1, 1))\n",
      "  (relu0): ReLU()\n",
      "  (pool): MaxPool2d(kernel_size=2, stride=2, padding=0, dilation=1, ceil_mode=False)\n",
      ") \t\t torch.Size([1, 128, 56, 56])\n",
      "Sequential(\n",
      "  (0): Conv2d(128, 256, kernel_size=(3, 3), stride=(1, 1), padding=(1, 1))\n",
      "  (1): ReLU()\n",
      "  (conv0): Conv2d(256, 256, kernel_size=(3, 3), stride=(1, 1), padding=(1, 1))\n",
      "  (relu0): ReLU()\n",
      "  (conv1): Conv2d(256, 256, kernel_size=(3, 3), stride=(1, 1), padding=(1, 1))\n",
      "  (relu1): ReLU()\n",
      "  (pool): MaxPool2d(kernel_size=2, stride=2, padding=0, dilation=1, ceil_mode=False)\n",
      ") \t\t torch.Size([1, 256, 28, 28])\n",
      "Sequential(\n",
      "  (0): Conv2d(256, 512, kernel_size=(3, 3), stride=(1, 1), padding=(1, 1))\n",
      "  (1): ReLU()\n",
      "  (conv0): Conv2d(512, 512, kernel_size=(3, 3), stride=(1, 1), padding=(1, 1))\n",
      "  (relu0): ReLU()\n",
      "  (conv1): Conv2d(512, 512, kernel_size=(3, 3), stride=(1, 1), padding=(1, 1))\n",
      "  (relu1): ReLU()\n",
      "  (pool): MaxPool2d(kernel_size=2, stride=2, padding=0, dilation=1, ceil_mode=False)\n",
      ") \t\t torch.Size([1, 512, 14, 14])\n",
      "Sequential(\n",
      "  (0): Conv2d(512, 512, kernel_size=(3, 3), stride=(1, 1), padding=(1, 1))\n",
      "  (1): ReLU()\n",
      "  (conv0): Conv2d(512, 512, kernel_size=(3, 3), stride=(1, 1), padding=(1, 1))\n",
      "  (relu0): ReLU()\n",
      "  (conv1): Conv2d(512, 512, kernel_size=(3, 3), stride=(1, 1), padding=(1, 1))\n",
      "  (relu1): ReLU()\n",
      "  (pool): MaxPool2d(kernel_size=2, stride=2, padding=0, dilation=1, ceil_mode=False)\n",
      ") \t\t torch.Size([1, 512, 7, 7])\n",
      "Sequential(\n",
      "  (0): Flatten()\n",
      "  (1): Linear(in_features=25088, out_features=4096, bias=True)\n",
      "  (2): ReLU()\n",
      "  (3): Dropout(p=0.5, inplace=False)\n",
      "  (4): Linear(in_features=4096, out_features=4096, bias=True)\n",
      "  (5): ReLU()\n",
      "  (6): Dropout(p=0.5, inplace=False)\n",
      "  (7): Linear(in_features=4096, out_features=2, bias=True)\n",
      ") \t\t torch.Size([1, 2])\n"
     ]
    }
   ],
   "source": [
    "x = train_dataset[0][0].reshape(1,3,224,224)\n",
    "for l in net:\n",
    "    x = l(x)\n",
    "    print(l, \"\\t\\t\", x.shape)"
   ]
  },
  {
   "cell_type": "code",
   "execution_count": 36,
   "metadata": {},
   "outputs": [],
   "source": [
    "net = net.to(device)"
   ]
  },
  {
   "cell_type": "code",
   "execution_count": 37,
   "metadata": {},
   "outputs": [
    {
     "name": "stdout",
     "output_type": "stream",
     "text": [
      "Step. time since epoch: 17.904. Train acc: 0.406. Train Loss: 22.218\n",
      "Step. time since epoch: 35.097. Train acc: 0.500. Train Loss: 22.849\n",
      "Step. time since epoch: 52.151. Train acc: 0.500. Train Loss: 22.203\n",
      "Step. time since epoch: 69.617. Train acc: 0.500. Train Loss: 22.183\n",
      "Step. time since epoch: 86.642. Train acc: 0.312. Train Loss: 23.085\n",
      "Step. time since epoch: 104.527. Train acc: 0.469. Train Loss: 25.864\n",
      "Step. time since epoch: 122.497. Train acc: 0.562. Train Loss: 21.978\n",
      "Step. time since epoch: 134.150. Train acc: 0.500. Train Loss: 14.000\n",
      "epoch 1, loss 0.7147, train acc 0.467, test acc 0.458, time 163.6 sec\n",
      "Step. time since epoch: 17.105. Train acc: 0.531. Train Loss: 22.122\n",
      "Step. time since epoch: 34.694. Train acc: 0.531. Train Loss: 22.118\n",
      "Step. time since epoch: 51.804. Train acc: 0.562. Train Loss: 21.993\n",
      "Step. time since epoch: 68.714. Train acc: 0.531. Train Loss: 22.181\n",
      "Step. time since epoch: 85.685. Train acc: 0.438. Train Loss: 22.495\n",
      "Step. time since epoch: 102.571. Train acc: 0.625. Train Loss: 21.433\n",
      "Step. time since epoch: 119.664. Train acc: 0.406. Train Loss: 24.686\n",
      "Step. time since epoch: 130.354. Train acc: 0.450. Train Loss: 14.525\n",
      "epoch 2, loss 0.7031, train acc 0.512, test acc 0.458, time 159.2 sec\n",
      "Step. time since epoch: 17.150. Train acc: 0.469. Train Loss: 22.219\n",
      "Step. time since epoch: 34.103. Train acc: 0.562. Train Loss: 22.007\n",
      "Step. time since epoch: 51.443. Train acc: 0.438. Train Loss: 22.885\n",
      "Step. time since epoch: 68.481. Train acc: 0.406. Train Loss: 22.971\n",
      "Step. time since epoch: 85.480. Train acc: 0.375. Train Loss: 23.851\n",
      "Step. time since epoch: 102.257. Train acc: 0.594. Train Loss: 21.618\n",
      "Step. time since epoch: 119.221. Train acc: 0.531. Train Loss: 22.382\n",
      "Step. time since epoch: 130.107. Train acc: 0.350. Train Loss: 14.410\n",
      "epoch 3, loss 0.7063, train acc 0.471, test acc 0.542, time 159.5 sec\n",
      "Step. time since epoch: 17.167. Train acc: 0.500. Train Loss: 22.431\n",
      "Step. time since epoch: 33.998. Train acc: 0.469. Train Loss: 22.222\n",
      "Step. time since epoch: 50.900. Train acc: 0.375. Train Loss: 22.631\n",
      "Step. time since epoch: 67.951. Train acc: 0.375. Train Loss: 24.516\n",
      "Step. time since epoch: 84.826. Train acc: 0.531. Train Loss: 22.332\n",
      "Step. time since epoch: 102.049. Train acc: 0.500. Train Loss: 22.290\n",
      "Step. time since epoch: 119.435. Train acc: 0.469. Train Loss: 22.211\n",
      "Step. time since epoch: 130.950. Train acc: 0.500. Train Loss: 13.888\n",
      "epoch 4, loss 0.7071, train acc 0.463, test acc 0.542, time 160.5 sec\n",
      "Step. time since epoch: 17.519. Train acc: 0.531. Train Loss: 22.142\n",
      "Step. time since epoch: 34.820. Train acc: 0.344. Train Loss: 22.792\n",
      "Step. time since epoch: 52.316. Train acc: 0.500. Train Loss: 23.179\n",
      "Step. time since epoch: 69.984. Train acc: 0.688. Train Loss: 21.666\n",
      "Step. time since epoch: 87.947. Train acc: 0.438. Train Loss: 25.046\n",
      "Step. time since epoch: 105.148. Train acc: 0.531. Train Loss: 22.126\n",
      "Step. time since epoch: 122.611. Train acc: 0.625. Train Loss: 21.768\n",
      "Step. time since epoch: 133.314. Train acc: 0.600. Train Loss: 13.462\n",
      "epoch 5, loss 0.7057, train acc 0.529, test acc 0.542, time 163.1 sec\n"
     ]
    }
   ],
   "source": [
    "lr, num_epochs = 0.05, 5\n",
    "trainer = torch.optim.SGD(net.parameters(), lr=lr)\n",
    "train(net, train_iter, test_iter, trainer, num_epochs)"
   ]
  },
  {
   "cell_type": "markdown",
   "metadata": {},
   "source": [
    "## 2. ResNet 18 & VGG 16 with Fine Tuning:"
   ]
  },
  {
   "cell_type": "markdown",
   "metadata": {},
   "source": [
    "### Модель ResNet 18:"
   ]
  },
  {
   "cell_type": "code",
   "execution_count": 38,
   "metadata": {},
   "outputs": [],
   "source": [
    "model = tv.models.resnet18(pretrained=True)"
   ]
  },
  {
   "cell_type": "code",
   "execution_count": 39,
   "metadata": {},
   "outputs": [],
   "source": [
    "## Убираем требование градиента:\n",
    "for param in model.parameters():\n",
    "    param.requires_grad = False"
   ]
  },
  {
   "cell_type": "code",
   "execution_count": 40,
   "metadata": {},
   "outputs": [
    {
     "data": {
      "text/plain": [
       "Linear(in_features=512, out_features=1000, bias=True)"
      ]
     },
     "execution_count": 40,
     "metadata": {},
     "output_type": "execute_result"
    }
   ],
   "source": [
    "model.fc"
   ]
  },
  {
   "cell_type": "code",
   "execution_count": 41,
   "metadata": {},
   "outputs": [],
   "source": [
    "model.fc = nn.Linear(in_features=512, out_features=2)"
   ]
  },
  {
   "cell_type": "code",
   "execution_count": 42,
   "metadata": {},
   "outputs": [
    {
     "name": "stdout",
     "output_type": "stream",
     "text": [
      "Params to learn:\n",
      "\t fc.weight\n",
      "\t fc.bias\n"
     ]
    }
   ],
   "source": [
    "print(\"Params to learn:\")\n",
    "params_to_update = []\n",
    "for name,param in model.named_parameters():\n",
    "    if param.requires_grad == True:\n",
    "        params_to_update.append(param)\n",
    "        print(\"\\t\",name)"
   ]
  },
  {
   "cell_type": "code",
   "execution_count": 43,
   "metadata": {},
   "outputs": [],
   "source": [
    "trainer = torch.optim.SGD(params_to_update, lr=0.001, momentum=0.9)"
   ]
  },
  {
   "cell_type": "code",
   "execution_count": 44,
   "metadata": {},
   "outputs": [
    {
     "name": "stdout",
     "output_type": "stream",
     "text": [
      "Step. time since epoch: 1.290. Train acc: 0.500. Train Loss: 21.150\n",
      "Step. time since epoch: 2.542. Train acc: 0.656. Train Loss: 19.759\n",
      "Step. time since epoch: 3.781. Train acc: 0.719. Train Loss: 13.117\n",
      "Step. time since epoch: 5.135. Train acc: 0.906. Train Loss: 8.889\n",
      "Step. time since epoch: 6.496. Train acc: 0.688. Train Loss: 23.597\n",
      "Step. time since epoch: 7.766. Train acc: 0.812. Train Loss: 11.786\n",
      "Step. time since epoch: 9.005. Train acc: 1.000. Train Loss: 1.954\n",
      "Step. time since epoch: 9.817. Train acc: 1.000. Train Loss: 1.774\n",
      "epoch 1, loss 0.4181, train acc 0.775, test acc 0.941, time 16.0 sec\n",
      "Step. time since epoch: 1.214. Train acc: 1.000. Train Loss: 0.577\n",
      "Step. time since epoch: 2.462. Train acc: 0.938. Train Loss: 3.778\n",
      "Step. time since epoch: 3.735. Train acc: 0.969. Train Loss: 2.543\n",
      "Step. time since epoch: 4.961. Train acc: 1.000. Train Loss: 0.118\n",
      "Step. time since epoch: 6.192. Train acc: 0.969. Train Loss: 4.989\n",
      "Step. time since epoch: 7.448. Train acc: 0.875. Train Loss: 8.726\n",
      "Step. time since epoch: 8.746. Train acc: 1.000. Train Loss: 0.312\n",
      "Step. time since epoch: 9.545. Train acc: 1.000. Train Loss: 0.153\n",
      "epoch 2, loss 0.0869, train acc 0.967, test acc 0.941, time 15.7 sec\n",
      "Step. time since epoch: 1.229. Train acc: 1.000. Train Loss: 0.321\n",
      "Step. time since epoch: 2.542. Train acc: 1.000. Train Loss: 0.664\n",
      "Step. time since epoch: 3.798. Train acc: 1.000. Train Loss: 0.415\n",
      "Step. time since epoch: 5.051. Train acc: 0.969. Train Loss: 4.371\n",
      "Step. time since epoch: 6.282. Train acc: 0.969. Train Loss: 0.761\n",
      "Step. time since epoch: 7.527. Train acc: 1.000. Train Loss: 0.202\n",
      "Step. time since epoch: 8.761. Train acc: 0.938. Train Loss: 3.645\n",
      "Step. time since epoch: 9.544. Train acc: 1.000. Train Loss: 0.759\n",
      "epoch 3, loss 0.0456, train acc 0.984, test acc 0.935, time 15.9 sec\n",
      "Step. time since epoch: 1.230. Train acc: 1.000. Train Loss: 0.447\n",
      "Step. time since epoch: 2.457. Train acc: 1.000. Train Loss: 0.019\n",
      "Step. time since epoch: 3.691. Train acc: 0.969. Train Loss: 1.985\n",
      "Step. time since epoch: 4.908. Train acc: 1.000. Train Loss: 0.509\n",
      "Step. time since epoch: 6.136. Train acc: 0.969. Train Loss: 1.945\n",
      "Step. time since epoch: 7.462. Train acc: 1.000. Train Loss: 0.498\n",
      "Step. time since epoch: 8.710. Train acc: 0.969. Train Loss: 1.135\n",
      "Step. time since epoch: 9.481. Train acc: 1.000. Train Loss: 0.031\n",
      "epoch 4, loss 0.0269, train acc 0.988, test acc 0.941, time 15.7 sec\n",
      "Step. time since epoch: 1.241. Train acc: 1.000. Train Loss: 0.462\n",
      "Step. time since epoch: 2.570. Train acc: 0.969. Train Loss: 1.826\n",
      "Step. time since epoch: 3.952. Train acc: 1.000. Train Loss: 0.021\n",
      "Step. time since epoch: 5.262. Train acc: 1.000. Train Loss: 0.210\n",
      "Step. time since epoch: 6.577. Train acc: 1.000. Train Loss: 0.158\n",
      "Step. time since epoch: 7.895. Train acc: 1.000. Train Loss: 0.053\n",
      "Step. time since epoch: 9.158. Train acc: 1.000. Train Loss: 0.077\n",
      "Step. time since epoch: 9.962. Train acc: 1.000. Train Loss: 0.021\n",
      "epoch 5, loss 0.0116, train acc 0.996, test acc 0.941, time 16.4 sec\n"
     ]
    }
   ],
   "source": [
    "train(model, train_iter, test_iter, trainer, 5)"
   ]
  },
  {
   "cell_type": "code",
   "execution_count": 27,
   "metadata": {},
   "outputs": [],
   "source": [
    "def visualize_model(model, num_images=6):\n",
    "    was_training = model.training\n",
    "    model.eval()\n",
    "    images_so_far = 0\n",
    "    fig = plt.figure()\n",
    "\n",
    "    with torch.no_grad():\n",
    "        for i, (inputs, labels) in enumerate(test_iter):\n",
    "            inputs = inputs.to(device)\n",
    "            labels = labels.to(device)\n",
    "\n",
    "            outputs = model(inputs)\n",
    "            _, preds = torch.max(outputs, 1)\n",
    "\n",
    "            for j in range(inputs.size()[0]):\n",
    "                images_so_far += 1\n",
    "                ax = plt.subplot(num_images//2, 2, images_so_far)\n",
    "                ax.axis('off')\n",
    "                ax.set_title('predicted: {}'.format(class_names[preds[j]]))\n",
    "                imshow(inputs.cpu().data[j])\n",
    "\n",
    "                if images_so_far == num_images:\n",
    "                    model.train(mode=was_training)\n",
    "                    return\n",
    "        model.train(mode=was_training)"
   ]
  },
  {
   "cell_type": "code",
   "execution_count": 56,
   "metadata": {},
   "outputs": [
    {
     "data": {
      "image/png": "[encoded data removed]",
      "text/plain": [
       "<Figure size 432x288 with 1 Axes>"
      ]
     },
     "metadata": {
      "needs_background": "light"
     },
     "output_type": "display_data"
    },
    {
     "data": {
      "image/png": "[encoded data removed]",
      "text/plain": [
       "<Figure size 432x288 with 1 Axes>"
      ]
     },
     "metadata": {
      "needs_background": "light"
     },
     "output_type": "display_data"
    },
    {
     "data": {
      "image/png": "[encoded data removed]",
      "text/plain": [
       "<Figure size 432x288 with 1 Axes>"
      ]
     },
     "metadata": {
      "needs_background": "light"
     },
     "output_type": "display_data"
    },
    {
     "data": {
      "image/png": "[encoded data removed]",
      "text/plain": [
       "<Figure size 432x288 with 1 Axes>"
      ]
     },
     "metadata": {
      "needs_background": "light"
     },
     "output_type": "display_data"
    },
    {
     "data": {
      "image/png": "[encoded data removed]",
      "text/plain": [
       "<Figure size 432x288 with 1 Axes>"
      ]
     },
     "metadata": {
      "needs_background": "light"
     },
     "output_type": "display_data"
    },
    {
     "data": {
      "image/png": "[encoded data removed]",
      "text/plain": [
       "<Figure size 432x288 with 1 Axes>"
      ]
     },
     "metadata": {
      "needs_background": "light"
     },
     "output_type": "display_data"
    }
   ],
   "source": [
    "visualize_model(model)"
   ]
  },
  {
   "cell_type": "markdown",
   "metadata": {},
   "source": [
    "### VGG 16"
   ]
  },
  {
   "cell_type": "code",
   "execution_count": 45,
   "metadata": {},
   "outputs": [
    {
     "name": "stderr",
     "output_type": "stream",
     "text": [
      "Downloading: \"https://download.pytorch.org/models/vgg16-397923af.pth\" to C:\\Users\\Nikita/.cache\\torch\\hub\\checkpoints\\vgg16-397923af.pth\n"
     ]
    },
    {
     "data": {
      "application/vnd.jupyter.widget-view+json": {
       "model_id": "13a3cb0a0c0443dfa214c362c5456944",
       "version_major": 2,
       "version_minor": 0
      },
      "text/plain": [
       "HBox(children=(FloatProgress(value=0.0, max=553433881.0), HTML(value='')))"
      ]
     },
     "metadata": {},
     "output_type": "display_data"
    },
    {
     "name": "stdout",
     "output_type": "stream",
     "text": [
      "\n"
     ]
    }
   ],
   "source": [
    "model = tv.models.vgg16(pretrained=True)"
   ]
  },
  {
   "cell_type": "code",
   "execution_count": 46,
   "metadata": {},
   "outputs": [],
   "source": [
    "## Убираем требование градиента:\n",
    "for param in model.parameters():\n",
    "    param.requires_grad = False"
   ]
  },
  {
   "cell_type": "code",
   "execution_count": 47,
   "metadata": {},
   "outputs": [
    {
     "data": {
      "text/plain": [
       "<bound method Module.named_modules of VGG(\n",
       "  (features): Sequential(\n",
       "    (0): Conv2d(3, 64, kernel_size=(3, 3), stride=(1, 1), padding=(1, 1))\n",
       "    (1): ReLU(inplace=True)\n",
       "    (2): Conv2d(64, 64, kernel_size=(3, 3), stride=(1, 1), padding=(1, 1))\n",
       "    (3): ReLU(inplace=True)\n",
       "    (4): MaxPool2d(kernel_size=2, stride=2, padding=0, dilation=1, ceil_mode=False)\n",
       "    (5): Conv2d(64, 128, kernel_size=(3, 3), stride=(1, 1), padding=(1, 1))\n",
       "    (6): ReLU(inplace=True)\n",
       "    (7): Conv2d(128, 128, kernel_size=(3, 3), stride=(1, 1), padding=(1, 1))\n",
       "    (8): ReLU(inplace=True)\n",
       "    (9): MaxPool2d(kernel_size=2, stride=2, padding=0, dilation=1, ceil_mode=False)\n",
       "    (10): Conv2d(128, 256, kernel_size=(3, 3), stride=(1, 1), padding=(1, 1))\n",
       "    (11): ReLU(inplace=True)\n",
       "    (12): Conv2d(256, 256, kernel_size=(3, 3), stride=(1, 1), padding=(1, 1))\n",
       "    (13): ReLU(inplace=True)\n",
       "    (14): Conv2d(256, 256, kernel_size=(3, 3), stride=(1, 1), padding=(1, 1))\n",
       "    (15): ReLU(inplace=True)\n",
       "    (16): MaxPool2d(kernel_size=2, stride=2, padding=0, dilation=1, ceil_mode=False)\n",
       "    (17): Conv2d(256, 512, kernel_size=(3, 3), stride=(1, 1), padding=(1, 1))\n",
       "    (18): ReLU(inplace=True)\n",
       "    (19): Conv2d(512, 512, kernel_size=(3, 3), stride=(1, 1), padding=(1, 1))\n",
       "    (20): ReLU(inplace=True)\n",
       "    (21): Conv2d(512, 512, kernel_size=(3, 3), stride=(1, 1), padding=(1, 1))\n",
       "    (22): ReLU(inplace=True)\n",
       "    (23): MaxPool2d(kernel_size=2, stride=2, padding=0, dilation=1, ceil_mode=False)\n",
       "    (24): Conv2d(512, 512, kernel_size=(3, 3), stride=(1, 1), padding=(1, 1))\n",
       "    (25): ReLU(inplace=True)\n",
       "    (26): Conv2d(512, 512, kernel_size=(3, 3), stride=(1, 1), padding=(1, 1))\n",
       "    (27): ReLU(inplace=True)\n",
       "    (28): Conv2d(512, 512, kernel_size=(3, 3), stride=(1, 1), padding=(1, 1))\n",
       "    (29): ReLU(inplace=True)\n",
       "    (30): MaxPool2d(kernel_size=2, stride=2, padding=0, dilation=1, ceil_mode=False)\n",
       "  )\n",
       "  (avgpool): AdaptiveAvgPool2d(output_size=(7, 7))\n",
       "  (classifier): Sequential(\n",
       "    (0): Linear(in_features=25088, out_features=4096, bias=True)\n",
       "    (1): ReLU(inplace=True)\n",
       "    (2): Dropout(p=0.5, inplace=False)\n",
       "    (3): Linear(in_features=4096, out_features=4096, bias=True)\n",
       "    (4): ReLU(inplace=True)\n",
       "    (5): Dropout(p=0.5, inplace=False)\n",
       "    (6): Linear(in_features=4096, out_features=1000, bias=True)\n",
       "  )\n",
       ")>"
      ]
     },
     "execution_count": 47,
     "metadata": {},
     "output_type": "execute_result"
    }
   ],
   "source": [
    "model.named_modules"
   ]
  },
  {
   "cell_type": "code",
   "execution_count": 48,
   "metadata": {},
   "outputs": [],
   "source": [
    "model.classifier[6] = nn.Linear(4096, 2)"
   ]
  },
  {
   "cell_type": "code",
   "execution_count": 49,
   "metadata": {},
   "outputs": [],
   "source": [
    "model.classifier = nn.Sequential(\n",
    "        nn.Flatten(), nn.BatchNorm1d(25088),\n",
    "        nn.Linear(25088, 4096), nn.ReLU(), nn.Dropout(0.5),\n",
    "        nn.Linear(4096, 4096), nn.ReLU(), nn.Dropout(0.5),\n",
    "        nn.Linear(4096, 2))"
   ]
  },
  {
   "cell_type": "code",
   "execution_count": 50,
   "metadata": {},
   "outputs": [],
   "source": [
    "model = model.to(device)"
   ]
  },
  {
   "cell_type": "code",
   "execution_count": 51,
   "metadata": {},
   "outputs": [
    {
     "name": "stdout",
     "output_type": "stream",
     "text": [
      "Params to learn:\n",
      "\t classifier.1.weight\n",
      "\t classifier.1.bias\n",
      "\t classifier.2.weight\n",
      "\t classifier.2.bias\n",
      "\t classifier.5.weight\n",
      "\t classifier.5.bias\n",
      "\t classifier.8.weight\n",
      "\t classifier.8.bias\n"
     ]
    }
   ],
   "source": [
    "print(\"Params to learn:\")\n",
    "params_to_update = []\n",
    "for name,param in model.named_parameters():\n",
    "    if param.requires_grad == True:\n",
    "        params_to_update.append(param)\n",
    "        print(\"\\t\",name)"
   ]
  },
  {
   "cell_type": "code",
   "execution_count": 52,
   "metadata": {},
   "outputs": [],
   "source": [
    "trainer = torch.optim.SGD(model.parameters(), lr=0.001)"
   ]
  },
  {
   "cell_type": "code",
   "execution_count": 55,
   "metadata": {},
   "outputs": [
    {
     "name": "stdout",
     "output_type": "stream",
     "text": [
      "Step. time since epoch: 6.544. Train acc: 0.500. Train Loss: 21.764\n",
      "Step. time since epoch: 12.849. Train acc: 0.500. Train Loss: 21.343\n",
      "Step. time since epoch: 19.139. Train acc: 0.688. Train Loss: 18.729\n",
      "Step. time since epoch: 25.378. Train acc: 0.844. Train Loss: 18.402\n",
      "Step. time since epoch: 31.745. Train acc: 0.625. Train Loss: 20.049\n",
      "Step. time since epoch: 38.158. Train acc: 0.781. Train Loss: 18.279\n",
      "Step. time since epoch: 44.954. Train acc: 0.688. Train Loss: 19.079\n",
      "Step. time since epoch: 49.703. Train acc: 0.700. Train Loss: 11.308\n",
      "epoch 1, loss 0.6105, train acc 0.664, test acc 0.889, time 77.9 sec\n",
      "Step. time since epoch: 6.398. Train acc: 1.000. Train Loss: 10.741\n",
      "Step. time since epoch: 12.624. Train acc: 1.000. Train Loss: 9.020\n",
      "Step. time since epoch: 18.836. Train acc: 0.938. Train Loss: 9.626\n",
      "Step. time since epoch: 25.249. Train acc: 0.969. Train Loss: 8.805\n",
      "Step. time since epoch: 31.519. Train acc: 0.938. Train Loss: 7.304\n",
      "Step. time since epoch: 37.923. Train acc: 0.938. Train Loss: 7.598\n",
      "Step. time since epoch: 44.267. Train acc: 0.969. Train Loss: 7.425\n",
      "Step. time since epoch: 48.401. Train acc: 0.900. Train Loss: 5.901\n",
      "epoch 2, loss 0.2722, train acc 0.959, test acc 0.908, time 76.5 sec\n",
      "Step. time since epoch: 6.118. Train acc: 1.000. Train Loss: 2.937\n",
      "Step. time since epoch: 12.289. Train acc: 1.000. Train Loss: 3.435\n",
      "Step. time since epoch: 18.441. Train acc: 1.000. Train Loss: 4.019\n",
      "Step. time since epoch: 24.611. Train acc: 1.000. Train Loss: 1.879\n",
      "Step. time since epoch: 30.790. Train acc: 1.000. Train Loss: 2.821\n",
      "Step. time since epoch: 37.017. Train acc: 1.000. Train Loss: 2.196\n",
      "Step. time since epoch: 43.407. Train acc: 1.000. Train Loss: 2.748\n",
      "Step. time since epoch: 47.511. Train acc: 1.000. Train Loss: 1.292\n",
      "epoch 3, loss 0.0874, train acc 1.000, test acc 0.922, time 75.4 sec\n",
      "Step. time since epoch: 6.116. Train acc: 1.000. Train Loss: 1.599\n",
      "Step. time since epoch: 12.512. Train acc: 1.000. Train Loss: 1.186\n",
      "Step. time since epoch: 18.696. Train acc: 1.000. Train Loss: 1.162\n",
      "Step. time since epoch: 25.041. Train acc: 1.000. Train Loss: 1.164\n",
      "Step. time since epoch: 31.365. Train acc: 1.000. Train Loss: 1.846\n",
      "Step. time since epoch: 37.557. Train acc: 1.000. Train Loss: 1.322\n",
      "Step. time since epoch: 43.947. Train acc: 1.000. Train Loss: 1.510\n",
      "Step. time since epoch: 47.966. Train acc: 1.000. Train Loss: 0.862\n",
      "epoch 4, loss 0.0437, train acc 1.000, test acc 0.922, time 76.2 sec\n",
      "Step. time since epoch: 6.182. Train acc: 1.000. Train Loss: 0.968\n",
      "Step. time since epoch: 12.286. Train acc: 1.000. Train Loss: 1.178\n",
      "Step. time since epoch: 18.486. Train acc: 1.000. Train Loss: 0.683\n",
      "Step. time since epoch: 24.697. Train acc: 1.000. Train Loss: 1.010\n",
      "Step. time since epoch: 30.805. Train acc: 1.000. Train Loss: 0.616\n",
      "Step. time since epoch: 37.053. Train acc: 1.000. Train Loss: 0.672\n",
      "Step. time since epoch: 43.205. Train acc: 1.000. Train Loss: 0.533\n",
      "Step. time since epoch: 47.261. Train acc: 1.000. Train Loss: 0.957\n",
      "epoch 5, loss 0.0271, train acc 1.000, test acc 0.922, time 75.0 sec\n"
     ]
    }
   ],
   "source": [
    "train(model, train_iter, test_iter, trainer, 5)"
   ]
  },
  {
   "cell_type": "markdown",
   "metadata": {},
   "source": [
    "## Resnet 18 & VGG 16 with Fine Tuning & Data Augmentation"
   ]
  },
  {
   "cell_type": "code",
   "execution_count": 89,
   "metadata": {},
   "outputs": [],
   "source": [
    "augs = tv.transforms.Compose([\n",
    "    tv.transforms.RandomHorizontalFlip(),\n",
    "    tv.transforms.RandomVerticalFlip(),\n",
    "    tv.transforms.Resize((224,224)),\n",
    "    tv.transforms.ToTensor()    \n",
    "    ])\n",
    "\n",
    "train_dt_aug = tv.datasets.ImageFolder(os.path.join(data_dir, 'train'), transform=augs)\n",
    "test_dt_aug = tv.datasets.ImageFolder(os.path.join(data_dir, 'val'), transform=augs)\n",
    "\n",
    "train_dt_aug_iter = torch.utils.data.DataLoader(train_dt_aug, batch_size=BATCH_SIZE, shuffle=True)\n",
    "test_dt_aug_iter = torch.utils.data.DataLoader(test_dt_aug, batch_size=BATCH_SIZE,  shuffle=True)"
   ]
  },
  {
   "cell_type": "code",
   "execution_count": 90,
   "metadata": {},
   "outputs": [],
   "source": [
    "model_aug = tv.models.resnet18(pretrained=True)"
   ]
  },
  {
   "cell_type": "code",
   "execution_count": 91,
   "metadata": {},
   "outputs": [],
   "source": [
    "## Убираем требование градиента:\n",
    "for param in model_aug.parameters():\n",
    "    param.requires_grad = False"
   ]
  },
  {
   "cell_type": "code",
   "execution_count": 94,
   "metadata": {},
   "outputs": [
    {
     "data": {
      "text/plain": [
       "Linear(in_features=512, out_features=1000, bias=True)"
      ]
     },
     "execution_count": 94,
     "metadata": {},
     "output_type": "execute_result"
    }
   ],
   "source": [
    "model_aug.fc"
   ]
  },
  {
   "cell_type": "code",
   "execution_count": 95,
   "metadata": {},
   "outputs": [],
   "source": [
    "model_aug.fc = nn.Linear(in_features=512, out_features=2)"
   ]
  },
  {
   "cell_type": "code",
   "execution_count": 96,
   "metadata": {},
   "outputs": [],
   "source": [
    "model_aug = model_aug.to(device)"
   ]
  },
  {
   "cell_type": "code",
   "execution_count": 97,
   "metadata": {},
   "outputs": [],
   "source": [
    "params_to_update = []\n",
    "for name,param in model_aug.named_parameters():\n",
    "    if param.requires_grad == True:\n",
    "        params_to_update.append(param)"
   ]
  },
  {
   "cell_type": "code",
   "execution_count": 98,
   "metadata": {},
   "outputs": [],
   "source": [
    "trainer = torch.optim.SGD(model_aug.parameters(), lr=0.0001, momentum=0.9)"
   ]
  },
  {
   "cell_type": "code",
   "execution_count": 101,
   "metadata": {},
   "outputs": [
    {
     "name": "stdout",
     "output_type": "stream",
     "text": [
      "Step. time since epoch: 1.269. Train acc: 0.781. Train Loss: 15.017\n",
      "Step. time since epoch: 2.516. Train acc: 0.750. Train Loss: 16.380\n",
      "Step. time since epoch: 3.791. Train acc: 0.938. Train Loss: 11.251\n",
      "Step. time since epoch: 5.254. Train acc: 0.781. Train Loss: 12.912\n",
      "Step. time since epoch: 6.632. Train acc: 0.875. Train Loss: 9.262\n",
      "Step. time since epoch: 7.945. Train acc: 0.906. Train Loss: 9.449\n",
      "Step. time since epoch: 9.437. Train acc: 0.875. Train Loss: 10.927\n",
      "Step. time since epoch: 10.272. Train acc: 0.900. Train Loss: 4.793\n",
      "epoch 1, loss 0.3688, train acc 0.848, test acc 0.869, time 16.6 sec\n",
      "Step. time since epoch: 1.222. Train acc: 0.969. Train Loss: 8.122\n",
      "Step. time since epoch: 2.436. Train acc: 0.906. Train Loss: 9.169\n",
      "Step. time since epoch: 3.676. Train acc: 0.938. Train Loss: 7.502\n",
      "Step. time since epoch: 4.977. Train acc: 0.844. Train Loss: 12.129\n",
      "Step. time since epoch: 6.253. Train acc: 0.875. Train Loss: 8.421\n",
      "Step. time since epoch: 7.500. Train acc: 0.906. Train Loss: 7.432\n",
      "Step. time since epoch: 8.814. Train acc: 0.938. Train Loss: 8.209\n",
      "Step. time since epoch: 9.623. Train acc: 0.950. Train Loss: 3.006\n",
      "epoch 2, loss 0.2623, train acc 0.914, test acc 0.876, time 15.7 sec\n",
      "Step. time since epoch: 1.221. Train acc: 1.000. Train Loss: 5.319\n",
      "Step. time since epoch: 2.439. Train acc: 0.938. Train Loss: 4.848\n",
      "Step. time since epoch: 3.722. Train acc: 0.938. Train Loss: 6.409\n",
      "Step. time since epoch: 4.937. Train acc: 0.875. Train Loss: 8.319\n",
      "Step. time since epoch: 6.190. Train acc: 0.906. Train Loss: 8.078\n",
      "Step. time since epoch: 7.491. Train acc: 0.969. Train Loss: 5.620\n",
      "Step. time since epoch: 8.818. Train acc: 0.906. Train Loss: 7.300\n",
      "Step. time since epoch: 9.682. Train acc: 0.950. Train Loss: 2.284\n",
      "epoch 3, loss 0.1974, train acc 0.934, test acc 0.895, time 15.9 sec\n",
      "Step. time since epoch: 1.233. Train acc: 0.906. Train Loss: 6.491\n",
      "Step. time since epoch: 2.474. Train acc: 0.969. Train Loss: 3.993\n",
      "Step. time since epoch: 3.732. Train acc: 0.906. Train Loss: 5.818\n",
      "Step. time since epoch: 4.976. Train acc: 0.938. Train Loss: 7.757\n",
      "Step. time since epoch: 6.176. Train acc: 0.969. Train Loss: 4.389\n",
      "Step. time since epoch: 7.419. Train acc: 0.969. Train Loss: 4.645\n",
      "Step. time since epoch: 8.642. Train acc: 0.969. Train Loss: 4.762\n",
      "Step. time since epoch: 9.487. Train acc: 0.900. Train Loss: 4.016\n",
      "epoch 4, loss 0.1716, train acc 0.943, test acc 0.895, time 15.6 sec\n",
      "Step. time since epoch: 1.237. Train acc: 1.000. Train Loss: 1.544\n",
      "Step. time since epoch: 2.458. Train acc: 0.969. Train Loss: 3.036\n",
      "Step. time since epoch: 3.698. Train acc: 0.906. Train Loss: 8.099\n",
      "Step. time since epoch: 4.991. Train acc: 0.969. Train Loss: 4.113\n",
      "Step. time since epoch: 6.225. Train acc: 0.938. Train Loss: 9.298\n",
      "Step. time since epoch: 7.468. Train acc: 0.938. Train Loss: 5.047\n",
      "Step. time since epoch: 8.700. Train acc: 0.969. Train Loss: 4.905\n",
      "Step. time since epoch: 9.472. Train acc: 1.000. Train Loss: 1.764\n",
      "epoch 5, loss 0.1549, train acc 0.959, test acc 0.915, time 15.6 sec\n"
     ]
    }
   ],
   "source": [
    "train(model_aug, train_dt_aug_iter, test_dt_aug_iter, trainer, 5)"
   ]
  }
 ],
 "metadata": {
  "kernelspec": {
   "display_name": "Python 3",
   "language": "python",
   "name": "python3"
  },
  "language_info": {
   "codemirror_mode": {
    "name": "ipython",
    "version": 3
   },
   "file_extension": ".py",
   "mimetype": "text/x-python",
   "name": "python",
   "nbconvert_exporter": "python",
   "pygments_lexer": "ipython3",
   "version": "3.7.7"
  }
 },
 "nbformat": 4,
 "nbformat_minor": 4
}
