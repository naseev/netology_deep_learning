{
 "cells": [
  {
   "cell_type": "markdown",
   "metadata": {},
   "source": [
    "### Домашнее задание № 3\n",
    "\n",
    "Используя сверточные слои и архитектуру получите на fashion mnist качество не ниже 89,5%"
   ]
  },
  {
   "cell_type": "code",
   "execution_count": 1,
   "metadata": {},
   "outputs": [],
   "source": [
    "import torch\n",
    "import numpy as np\n",
    "import matplotlib.pyplot as plt\n",
    "import time\n",
    "%matplotlib inline"
   ]
  },
  {
   "cell_type": "code",
   "execution_count": 2,
   "metadata": {},
   "outputs": [],
   "source": [
    "import torch.nn as nn\n",
    "from torch.autograd import Variable\n",
    "\n",
    "import torchvision\n",
    "import torchvision.transforms as transforms\n",
    "from torch.utils.data import Dataset, DataLoader\n",
    "from sklearn.metrics import confusion_matrix"
   ]
  },
  {
   "cell_type": "code",
   "execution_count": 15,
   "metadata": {},
   "outputs": [],
   "source": [
    "train_dataset = torchvision.datasets.FashionMNIST(\n",
    "      root='./data/FashionMNIST'\n",
    "        ,train=True\n",
    "        ,download=True\n",
    "        ,transform=transforms.Compose([\n",
    "            transforms.ToTensor()\n",
    "        ])                                            \n",
    "  )\n",
    "\n",
    "test_dataset = torchvision.datasets.FashionMNIST(\n",
    "      root='./data/FashionMNIST'\n",
    "        ,train=False\n",
    "        ,download=True\n",
    "        ,transform=transforms.Compose([\n",
    "            transforms.ToTensor()\n",
    "        ])                                            \n",
    "  )"
   ]
  },
  {
   "cell_type": "code",
   "execution_count": 16,
   "metadata": {},
   "outputs": [],
   "source": [
    "BATCH_SIZE=256"
   ]
  },
  {
   "cell_type": "code",
   "execution_count": 17,
   "metadata": {},
   "outputs": [],
   "source": [
    "train_iter = torch.utils.data.DataLoader(train_set, batch_size=BATCH_SIZE, shuffle = True)\n",
    "test_iter = torch.utils.data.DataLoader(test_set, batch_size=BATCH_SIZE, shuffle=False)"
   ]
  },
  {
   "cell_type": "code",
   "execution_count": 18,
   "metadata": {},
   "outputs": [
    {
     "data": {
      "text/plain": [
       "<matplotlib.image.AxesImage at 0x18386ac7108>"
      ]
     },
     "execution_count": 18,
     "metadata": {},
     "output_type": "execute_result"
    },
    {
     "data": {
      "image/png": "[encoded data removed]",
      "text/plain": [
       "<Figure size 432x288 with 1 Axes>"
      ]
     },
     "metadata": {
      "needs_background": "light"
     },
     "output_type": "display_data"
    }
   ],
   "source": [
    "plt.imshow(train_set[0][0].numpy().reshape(28,28), cmap='gray')"
   ]
  },
  {
   "cell_type": "markdown",
   "metadata": {},
   "source": [
    "## Модель"
   ]
  },
  {
   "cell_type": "code",
   "execution_count": 79,
   "metadata": {},
   "outputs": [],
   "source": [
    "model = nn.Sequential(\n",
    "    nn.Conv2d(1, 32, kernel_size=5, padding=2),\n",
    "    nn.BatchNorm2d(32),\n",
    "    nn.ReLU(),\n",
    "    nn.MaxPool2d(2, stride=2),\n",
    "    \n",
    "    nn.Conv2d(32, 64, kernel_size=3),\n",
    "    nn.BatchNorm2d(64),\n",
    "    nn.ReLU(),\n",
    "    nn.MaxPool2d(2, stride=2),\n",
    "    \n",
    "    nn.Flatten(),\n",
    "    nn.Linear(64*6*6, 600),\n",
    "    nn.Dropout2d(0.25),\n",
    "    nn.Linear(600, 120),\n",
    "    nn.Linear(120, 10)\n",
    ")"
   ]
  },
  {
   "cell_type": "code",
   "execution_count": 80,
   "metadata": {},
   "outputs": [
    {
     "name": "stdout",
     "output_type": "stream",
     "text": [
      "torch.Size([1, 1, 28, 28])\n",
      "Layer Conv2d(1, 32, kernel_size=(5, 5), stride=(1, 1), padding=(2, 2)). X shape: torch.Size([1, 32, 28, 28])\n",
      "Layer BatchNorm2d(32, eps=1e-05, momentum=0.1, affine=True, track_running_stats=True). X shape: torch.Size([1, 32, 28, 28])\n",
      "Layer ReLU(). X shape: torch.Size([1, 32, 28, 28])\n",
      "Layer MaxPool2d(kernel_size=2, stride=2, padding=0, dilation=1, ceil_mode=False). X shape: torch.Size([1, 32, 14, 14])\n",
      "Layer Conv2d(32, 64, kernel_size=(3, 3), stride=(1, 1)). X shape: torch.Size([1, 64, 12, 12])\n",
      "Layer BatchNorm2d(64, eps=1e-05, momentum=0.1, affine=True, track_running_stats=True). X shape: torch.Size([1, 64, 12, 12])\n",
      "Layer ReLU(). X shape: torch.Size([1, 64, 12, 12])\n",
      "Layer MaxPool2d(kernel_size=2, stride=2, padding=0, dilation=1, ceil_mode=False). X shape: torch.Size([1, 64, 6, 6])\n",
      "Layer Flatten(). X shape: torch.Size([1, 2304])\n",
      "Layer Linear(in_features=2304, out_features=600, bias=True). X shape: torch.Size([1, 600])\n",
      "Layer Dropout2d(p=0.25, inplace=False). X shape: torch.Size([1, 600])\n",
      "Layer Linear(in_features=600, out_features=120, bias=True). X shape: torch.Size([1, 120])\n",
      "Layer Linear(in_features=120, out_features=10, bias=True). X shape: torch.Size([1, 10])\n"
     ]
    }
   ],
   "source": [
    "X = train_dataset[0][0]\n",
    "X = X.reshape(1, 1, 28, 28)\n",
    "print(X.shape)\n",
    "for l in model:\n",
    "    X = l(X)\n",
    "    print(\"Layer {}. X shape: {}\".format(l, X.shape))"
   ]
  },
  {
   "cell_type": "code",
   "execution_count": 81,
   "metadata": {},
   "outputs": [],
   "source": [
    "def evaluate_accuracy(data_iter, net):\n",
    "    acc_sum, n = torch.Tensor([0]), 0\n",
    "    for X, y in data_iter:\n",
    "        acc_sum += (net(X).argmax(axis=1) == y).sum()\n",
    "        n += y.shape[0]\n",
    "    return acc_sum.item() / n"
   ]
  },
  {
   "cell_type": "code",
   "execution_count": 82,
   "metadata": {},
   "outputs": [],
   "source": [
    "def train(net, train_iter, test_iter, trainer, num_epochs):\n",
    "    loss = nn.CrossEntropyLoss(reduction='sum')\n",
    "    for epoch in range(num_epochs):\n",
    "        train_l_sum, train_acc_sum, n, start = 0.0, 0.0, 0, time.time()\n",
    "        for X, y in train_iter:\n",
    "            trainer.zero_grad()\n",
    "            y_hat = net(X)\n",
    "            l = loss(y_hat, y)\n",
    "            l.backward()\n",
    "            trainer.step()\n",
    "            train_l_sum += l.item()\n",
    "            train_acc_sum += (y_hat.argmax(axis=1) == y).sum().item()\n",
    "            n += y.shape[0]\n",
    "        test_acc = evaluate_accuracy(test_iter, net)\n",
    "        print('epoch %d, loss %.4f, train acc %.3f, test acc %.3f, '\n",
    "              'time %.1f sec'\n",
    "              % (epoch + 1, train_l_sum / n, train_acc_sum / n, test_acc,\n",
    "                 time.time() - start))"
   ]
  },
  {
   "cell_type": "code",
   "execution_count": 83,
   "metadata": {},
   "outputs": [
    {
     "name": "stdout",
     "output_type": "stream",
     "text": [
      "epoch 1, loss 0.4771, train acc 0.830, test acc 0.856, time 64.1 sec\n",
      "epoch 2, loss 0.3071, train acc 0.891, test acc 0.874, time 62.9 sec\n",
      "epoch 3, loss 0.2665, train acc 0.905, test acc 0.873, time 59.9 sec\n",
      "epoch 4, loss 0.2440, train acc 0.912, test acc 0.896, time 60.0 sec\n",
      "epoch 5, loss 0.2321, train acc 0.916, test acc 0.895, time 60.2 sec\n",
      "epoch 6, loss 0.2114, train acc 0.923, test acc 0.889, time 60.2 sec\n",
      "epoch 7, loss 0.2004, train acc 0.927, test acc 0.902, time 60.0 sec\n",
      "epoch 8, loss 0.1896, train acc 0.930, test acc 0.909, time 60.2 sec\n",
      "epoch 9, loss 0.1754, train acc 0.935, test acc 0.896, time 59.9 sec\n",
      "epoch 10, loss 0.1672, train acc 0.938, test acc 0.908, time 60.1 sec\n"
     ]
    }
   ],
   "source": [
    "lr, num_epochs = 0.001, 10\n",
    "trainer = torch.optim.Adam(model.parameters(), lr=lr)\n",
    "train(model, train_iter, test_iter, trainer, num_epochs)"
   ]
  }
 ],
 "metadata": {
  "kernelspec": {
   "display_name": "Python 3",
   "language": "python",
   "name": "python3"
  },
  "language_info": {
   "codemirror_mode": {
    "name": "ipython",
    "version": 3
   },
   "file_extension": ".py",
   "mimetype": "text/x-python",
   "name": "python",
   "nbconvert_exporter": "python",
   "pygments_lexer": "ipython3",
   "version": "3.7.7"
  }
 },
 "nbformat": 4,
 "nbformat_minor": 4
}
